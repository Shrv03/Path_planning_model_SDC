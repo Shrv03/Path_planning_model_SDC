{
  "cells": [
    {
      "cell_type": "markdown",
      "metadata": {},
      "source": [
        "# Path Planning Example\n",
        "This notebook demonstrates a simple A* search on a 2D grid map. You can run it in Google Colab."
      ]
    },
    {
      "cell_type": "code",
      "metadata": {},
      "source": [
        "import numpy as np\n",
        "import heapq\n",
        "import matplotlib.pyplot as plt"
      ],
      "execution_count": null,
      "outputs": []
    },
    {
      "cell_type": "code",
      "metadata": {},
      "source": [
        "# A* path planning implementation\n",
        "def heuristic(a, b):\n",
        "    return np.linalg.norm(np.array(a) - np.array(b))\n",
        "\n",
        "def astar(grid, start, goal):\n",
        "    h, w = grid.shape\n",
        "    close_set = set()\n",
        "    came_from = {}\n",
        "    gscore = {start: 0}\n",
        "    fscore = {start: heuristic(start, goal)}\n",
        "    oheap = []\n",
        "    heapq.heappush(oheap, (fscore[start], start))\n",
        "    neighbors = [(1,0),(-1,0),(0,1),(0,-1)]\n",
        "    while oheap:\n",
        "        _, current = heapq.heappop(oheap)\n",
        "        if current == goal:\n",
        "            data = []\n",
        "            while current in came_from:\n",
        "                data.append(current)\n",
        "                current = came_from[current]\n",
        "            data.append(start)\n",
        "            return data[::-1]\n",
        "        close_set.add(current)\n",
        "        for i, j in neighbors:\n",
        "            neighbor = current[0] + i, current[1] + j\n",
        "            tentative_g_score = gscore[current] + heuristic(current, neighbor)\n",
        "            if 0 <= neighbor[0] < h and 0 <= neighbor[1] < w:\n",
        "                if grid[neighbor[0]][neighbor[1]] == 1:\n",
        "                    continue\n",
        "            else:\n",
        "                continue\n",
        "            if neighbor in close_set and tentative_g_score >= gscore.get(neighbor, float('inf')):\n",
        "                continue\n",
        "            if tentative_g_score < gscore.get(neighbor, float('inf')):\n",
        "                came_from[neighbor] = current\n",
        "                gscore[neighbor] = tentative_g_score\n",
        "                fscore[neighbor] = tentative_g_score + heuristic(neighbor, goal)\n",
        "                heapq.heappush(oheap, (fscore[neighbor], neighbor))\n",
        "    return None\n"
      ],
      "execution_count": null,
      "outputs": []
    },
    {
      "cell_type": "code",
      "metadata": {},
      "source": [
        "# Example usage\n",
        "grid = np.zeros((20, 20), dtype=int)\n",
        "grid[5:15, 10] = 1  # obstacle column\n",
        "start = (0, 0)\n",
        "goal = (19, 19)\n",
        "path = astar(grid, start, goal)\n",
        "print('Path length:', len(path))\n",
        "\n",
        "# Visualization\n",
        "fig, ax = plt.subplots(figsize=(5,5))\n",
        "ax.imshow(grid, cmap='gray_r')\n",
        "if path:\n",
        "    path = np.array(path)\n",
        "    ax.plot(path[:,1], path[:,0], color='red')\n",
        "ax.scatter(start[1], start[0], marker='o', color='green', label='Start')\n",
        "ax.scatter(goal[1], goal[0], marker='x', color='blue', label='Goal')\n",
        "ax.set_xticks([])\n",
        "ax.set_yticks([])\n",
        "ax.legend()\n",
        "plt.show()\n"
      ],
      "execution_count": null,
      "outputs": []
    }
  ],
  "metadata": {
    "kernelspec": {
      "display_name": "Python 3",
      "language": "python",
      "name": "python3"
    },
    "language_info": {
      "name": "python",
      "version": "3.x"
    }
  },
  "nbformat": 4,
  "nbformat_minor": 2
}